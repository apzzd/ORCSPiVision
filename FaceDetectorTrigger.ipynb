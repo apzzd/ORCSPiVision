{
 "cells": [
  {
   "cell_type": "code",
   "execution_count": 1,
   "id": "ee52ccb7",
   "metadata": {},
   "outputs": [],
   "source": [
    "from aiy.vision.inference import CameraInference\n",
    "from aiy.vision.models import face_detection\n",
    "from aiy.leds import Leds, Color\n",
    "\n",
    "from picamera import PiCamera\n",
    "from IPython.display import Image, display, clear_output\n",
    "\n",
    "import contextlib"
   ]
  },
  {
   "cell_type": "markdown",
   "id": "c6370f14",
   "metadata": {},
   "source": [
    "### Joy Trigger\n",
    "\n",
    "The code below will take a picture if the joy score is about `joyTreshhold`. Remember if your joy detector is running, you need to turn it off using the commands\n",
    "\n",
    "```\n",
    "sudo systemctl stop joy_detection_demo.service\n",
    "```\n"
   ]
  },
  {
   "cell_type": "code",
   "execution_count": 7,
   "id": "d1b46587",
   "metadata": {},
   "outputs": [],
   "source": [
    "# Where to save the images\n",
    "imageDir = \"/home/pi/Pictures\"\n",
    "\n",
    "# Joy threshhold to take a picture\n",
    "c = 0.2\n",
    "d = 0.4\n",
    "e = 0.6"
   ]
  },
  {
   "cell_type": "code",
   "execution_count": 13,
   "id": "01f89e8d",
   "metadata": {},
   "outputs": [
    {
     "ename": "SyntaxError",
     "evalue": "invalid syntax (1730155673.py, line 26)",
     "output_type": "error",
     "traceback": [
      "\u001b[0;36m  File \u001b[0;32m\"/tmp/ipykernel_13091/1730155673.py\"\u001b[0;36m, line \u001b[0;32m26\u001b[0m\n\u001b[0;31m    except KeyboardInterrupt:\u001b[0m\n\u001b[0m         ^\u001b[0m\n\u001b[0;31mSyntaxError\u001b[0m\u001b[0;31m:\u001b[0m invalid syntax\n"
     ]
    }
   ],
   "source": [
    "with contextlib.ExitStack() as stack:\n",
    "    leds   = stack.enter_context(Leds())\n",
    "    camera = stack.enter_context(PiCamera(sensor_mode=4, resolution=(820, 616)))\n",
    "\n",
    "    print (\"Loading model - hold on ..\")\n",
    "    \n",
    "    # Do inference on VisionBonnet\n",
    "    with CameraInference(face_detection.model()) as inference:\n",
    "        try:   \n",
    "            for result in inference.run():\n",
    "                leds.update(Leds.rgb_on(Color.RED))\n",
    "                faces = face_detection.get_faces(result)\n",
    "\n",
    "                # We have one or more faces detected\n",
    "                if len(faces) >= 1:\n",
    "                    clear_output(wait=True)                 \n",
    "                    leds.update(Leds.rgb_on(Color.GREEN))\n",
    "                    print(\"Joy score: \", faces[0].joy_score)\n",
    "                    \n",
    "                    # If we are bove the joy threshhold take the image\n",
    "                    if(faces[0].joy_score > joyTreshhold):\n",
    "                        print(\"Joy detected - saving picture ..\")\n",
    "                        camera.capture(imageDir+'/faceDetect.jpg')\n",
    "                        display(Image(filename=imageDir+'/faceDetect.jpg'))\n",
    "                        break\n",
    "                        \n",
    "        except KeyboardInterrupt:\n",
    "            print(\"Interrupted ..\")\n",
    "            \n",
    "    leds.update(Leds.rgb_off())\n",
    "    print(\"Done\")"
   ]
  },
  {
   "cell_type": "code",
   "execution_count": null,
   "id": "0fd1edd4",
   "metadata": {},
   "outputs": [],
   "source": []
  }
 ],
 "metadata": {
  "kernelspec": {
   "display_name": "Python 3 (ipykernel)",
   "language": "python",
   "name": "python3"
  },
  "language_info": {
   "codemirror_mode": {
    "name": "ipython",
    "version": 3
   },
   "file_extension": ".py",
   "mimetype": "text/x-python",
   "name": "python",
   "nbconvert_exporter": "python",
   "pygments_lexer": "ipython3",
   "version": "3.7.3"
  }
 },
 "nbformat": 4,
 "nbformat_minor": 5
}
